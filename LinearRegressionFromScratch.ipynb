{
  "nbformat": 4,
  "nbformat_minor": 0,
  "metadata": {
    "colab": {
      "name": "LinearRegressionFromScratch.ipynb",
      "provenance": [],
      "collapsed_sections": []
    },
    "kernelspec": {
      "name": "python3",
      "display_name": "Python 3"
    },
    "language_info": {
      "name": "python"
    }
  },
  "cells": [
    {
      "cell_type": "code",
      "metadata": {
        "colab": {
          "base_uri": "https://localhost:8080/",
          "height": 265
        },
        "id": "NVDVtCfhJO80",
        "outputId": "aca31057-1cf4-4b45-cd8b-ab77fb2ea32e"
      },
      "source": [
        "import numpy as np\n",
        "import matplotlib.pyplot as plt\n",
        "import seaborn as sns\n",
        "\n",
        "# x = np.array([0,5,8,10,17,13])\n",
        "# y = np.array([3,13,19,23,37,29])\n",
        "\n",
        "x = np.linspace(0,20)\n",
        "y = x*-2 + 0.5\n",
        "x = [(x[i]+(np.random.rand()*6)) for i in range(len(x))]\n",
        "\n",
        "sns.scatterplot(x=x,y=y)\n",
        "plt.show()"
      ],
      "execution_count": null,
      "outputs": [
        {
          "output_type": "display_data",
          "data": {
            "image/png": "[encoded data removed]",
            "text/plain": [
              "<Figure size 432x288 with 1 Axes>"
            ]
          },
          "metadata": {
            "needs_background": "light"
          }
        }
      ]
    },
    {
      "cell_type": "code",
      "metadata": {
        "colab": {
          "base_uri": "https://localhost:8080/",
          "height": 265
        },
        "id": "uut1RVVlkvtV",
        "outputId": "ec5acca3-c73d-4878-f40e-4e6bdf1d72e1"
      },
      "source": [
        "def MinMaxScale(x):\n",
        "  x = [(x[i]-min(x))/(max(x)-min(x)) for i in range(len(x))]\n",
        "  return x\n",
        "\n",
        "x = MinMaxScale(x)\n",
        "y = MinMaxScale(y)\n",
        "sns.scatterplot(x=x,y=y)\n",
        "plt.show()"
      ],
      "execution_count": null,
      "outputs": [
        {
          "output_type": "display_data",
          "data": {
            "image/png": "[encoded data removed]",
            "text/plain": [
              "<Figure size 432x288 with 1 Axes>"
            ]
          },
          "metadata": {
            "needs_background": "light"
          }
        }
      ]
    },
    {
      "cell_type": "code",
      "metadata": {
        "id": "xq0UyDEOLSYZ"
      },
      "source": [
        "class RegresiLinear():\n",
        "  def __init__(self):\n",
        "    self.a = 0 #slope\n",
        "    self.b = 0 #intercept\n",
        "    self.predictable = False\n",
        "\n",
        "  def fit(self,x,y,min_step=0.001,max_iteration=1000,lr=0.01):\n",
        "    counter = 0\n",
        "    for i in range(max_iteration):\n",
        "      counter += 1\n",
        "      m_a = 0;\n",
        "      m_b = 0;\n",
        "      for j in range(len(x)):\n",
        "        m_a += -2 * x[j] * (y[j] - (self.a*x[j]) - self.b)\n",
        "      for j in range(len(x)):\n",
        "        m_b += -2 * (y[j] - (self.a*x[j]) - self.b)\n",
        "      # m_a = m_a/len(x)\n",
        "      # m_b = m_b/len(x)\n",
        "      step_a = m_a * lr\n",
        "      step_b = m_b * lr\n",
        "      # if (step_a < min_step and step_b < min_step):\n",
        "      #   break\n",
        "      self.a -= step_a\n",
        "      self.b -= step_b\n",
        "    print(\"Pelatihan selesai pada iterasi ke-\",counter)\n",
        "    self.predictable = True\n",
        "  \n",
        "  def predict(self,x):\n",
        "    if (x == None):\n",
        "      print('Prediksi tidak bisa dilakukan')\n",
        "      return 0\n",
        "    x = [(self.a*x[i])+self.b for i in range(len(x))]\n",
        "    return x\n",
        "    "
      ],
      "execution_count": null,
      "outputs": []
    },
    {
      "cell_type": "code",
      "metadata": {
        "colab": {
          "base_uri": "https://localhost:8080/"
        },
        "id": "Ko4ocOAvWE53",
        "outputId": "d08fc73e-9dc3-4678-bdb7-56eb86894a70"
      },
      "source": [
        "model_linear = RegresiLinear()\n",
        "model_linear.fit(x,y,lr=0.01)"
      ],
      "execution_count": null,
      "outputs": [
        {
          "output_type": "stream",
          "name": "stdout",
          "text": [
            "Pelatihan selesai pada iterasi ke- 1000\n"
          ]
        }
      ]
    },
    {
      "cell_type": "code",
      "metadata": {
        "colab": {
          "base_uri": "https://localhost:8080/"
        },
        "id": "UqdZRz6mXsdw",
        "outputId": "9cded8e7-4a7a-483f-a18c-7bef9522d20e"
      },
      "source": [
        "print(model_linear.a)\n",
        "print(model_linear.b)\n"
      ],
      "execution_count": null,
      "outputs": [
        {
          "output_type": "stream",
          "name": "stdout",
          "text": [
            "-1.1256636586090158\n",
            "1.0810126291076971\n"
          ]
        }
      ]
    },
    {
      "cell_type": "code",
      "metadata": {
        "colab": {
          "base_uri": "https://localhost:8080/",
          "height": 265
        },
        "id": "rC7oEGmsZlqQ",
        "outputId": "aaa3ff3f-f8ce-4191-94a2-5c76ff2388fe"
      },
      "source": [
        "sns.scatterplot(x=x,y=y)\n",
        "sns.lineplot(x=[0,x[-1]],y=[model_linear.a*0+model_linear.b,model_linear.a*x[-1]+model_linear.b])\n",
        "plt.show()"
      ],
      "execution_count": null,
      "outputs": [
        {
          "output_type": "display_data",
          "data": {
            "image/png": "[encoded data removed]",
            "text/plain": [
              "<Figure size 432x288 with 1 Axes>"
            ]
          },
          "metadata": {
            "needs_background": "light"
          }
        }
      ]
    },
    {
      "cell_type": "code",
      "metadata": {
        "colab": {
          "base_uri": "https://localhost:8080/"
        },
        "id": "B5RcAJxTWegE",
        "outputId": "2fef3486-44a3-4879-d6f4-9c4e27787681"
      },
      "source": [
        "print(model_linear.predict(x = MinMaxScale([0,1,2,3,4,5])))"
      ],
      "execution_count": null,
      "outputs": [
        {
          "output_type": "stream",
          "name": "stdout",
          "text": [
            "[1.0810126291076971, 0.855879897385894, 0.6307471656640908, 0.4056144339422877, 0.18048170222048443, -0.04465102950131872]\n"
          ]
        }
      ]
    }
  ]
}